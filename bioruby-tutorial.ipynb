{
 "cells": [
  {
   "cell_type": "markdown",
   "metadata": {
    "collapsed": true
   },
   "source": [
    "# BioRuby Tutorial"
   ]
  },
  {
   "cell_type": "markdown",
   "metadata": {},
   "source": [
    "* Copyright (C) 2001-2003 KATAYAMA Toshiaki <k .at. bioruby.org>\n",
    "* Copyright (C) 2005-2011 Pjotr Prins, Naohisa Goto and others"
   ]
  },
  {
   "cell_type": "markdown",
   "metadata": {},
   "source": [
    "This document was last modified: 2011/10/14\n",
    "Current editor: Michael O'Keefe <okeefm (at) rpi (dot) edu>\n",
    "The latest version resides in the GIT source code repository:  [Tutorial.rd](https://github.com/bioruby/bioruby/blob/master/doc/Tutorial.rd)."
   ]
  },
  {
   "cell_type": "markdown",
   "metadata": {},
   "source": [
    "## Introduction"
   ]
  },
  {
   "cell_type": "markdown",
   "metadata": {},
   "source": [
    "This is a tutorial for using Bioruby. A basic knowledge of Ruby is required.\n",
    "If you want to know more about the programming language, we recommend the\n",
    "latest Ruby book [Programming Ruby](http://www.pragprog.com/titles/ruby)\n",
    "by Dave Thomas and Andy Hunt - the first edition can be read online\n",
    "[here](http://www.ruby-doc.org/docs/ProgrammingRuby/)."
   ]
  },
  {
   "cell_type": "markdown",
   "metadata": {},
   "source": [
    "For BioRuby you need to install Ruby and the BioRuby package on your computer\n",
    "You can check whether Ruby is installed on your computer and what\n",
    "version it has with the\n",
    "```shell\n",
    "  % ruby -v\n",
    "```\n",
    "command. You should see something like:\n",
    "```\n",
    "  ruby 1.9.2p290 (2011-07-09 revision 32553) [i686-linux]\n",
    "```\n",
    "If you see no such thing you'll have to install Ruby using your installation\n",
    "manager. For more information see the\n",
    "[Ruby](http://www.ruby-lang.org/en/) website.\n",
    "\n",
    "With Ruby download and install Bioruby using the links on the\n",
    "[Bioruby](http://bioruby.org/) website. The recommended installation is via \n",
    "RubyGems:\n",
    "```shell\n",
    "gem install bio\n",
    "```\n",
    "See also the Bioruby [wiki](http://bioruby.open-bio.org/wiki/Installation).\n",
    "\n",
    "A lot of BioRuby's documentation exists in the source code and unit tests. To\n",
    "really dive in you will need the latest source code tree. The embedded rdoc\n",
    "documentation can be viewed online at\n",
    "[bioruby's rdoc](http://bioruby.org/rdoc/). But first lets start!"
   ]
  },
  {
   "cell_type": "markdown",
   "metadata": {},
   "source": [
    "## Trying Bioruby"
   ]
  },
  {
   "cell_type": "markdown",
   "metadata": {},
   "source": [
    "Now test the following:"
   ]
  },
  {
   "cell_type": "code",
   "execution_count": 1,
   "metadata": {
    "collapsed": false
   },
   "outputs": [
    {
     "data": {
      "text/plain": [
       "true"
      ]
     },
     "execution_count": 1,
     "metadata": {},
     "output_type": "execute_result"
    }
   ],
   "source": [
    "require 'bio'"
   ]
  },
  {
   "cell_type": "code",
   "execution_count": 2,
   "metadata": {
    "collapsed": false
   },
   "outputs": [
    {
     "data": {
      "text/plain": [
       "\"atgcatgcaaaa\""
      ]
     },
     "execution_count": 2,
     "metadata": {},
     "output_type": "execute_result"
    }
   ],
   "source": [
    "seq = Bio::Sequence::NA.new(\"atgcatgcaaaa\")"
   ]
  },
  {
   "cell_type": "code",
   "execution_count": 3,
   "metadata": {
    "collapsed": false
   },
   "outputs": [
    {
     "data": {
      "text/plain": [
       "\"ttttgcatgcat\""
      ]
     },
     "execution_count": 3,
     "metadata": {},
     "output_type": "execute_result"
    }
   ],
   "source": [
    "seq.complement"
   ]
  },
  {
   "cell_type": "markdown",
   "metadata": {},
   "source": [
    "## Working with nucleic / amino acid sequences (Bio::Sequence class)\n",
    "\n",
    "The Bio::Sequence class allows the usual sequence transformations and\n",
    "translations.  In the example below the DNA sequence \"atgcatgcaaaa\" is\n",
    "converted into the complemental strand and spliced into a subsequence; \n",
    "next, the nucleic acid composition is calculated and the sequence is\n",
    "translated into the amino acid sequence, the molecular weight\n",
    "calculated, and so on. When translating into amino acid sequences, the\n",
    "frame can be specified and optionally the codon table selected (as\n",
    "defined in codontable.rb)."
   ]
  },
  {
   "cell_type": "code",
   "execution_count": 4,
   "metadata": {
    "collapsed": false
   },
   "outputs": [
    {
     "data": {
      "text/plain": [
       "\"atgcatgcaaaa\""
      ]
     },
     "execution_count": 4,
     "metadata": {},
     "output_type": "execute_result"
    }
   ],
   "source": [
    "seq = Bio::Sequence::NA.new(\"atgcatgcaaaa\")"
   ]
  },
  {
   "cell_type": "code",
   "execution_count": 5,
   "metadata": {
    "collapsed": false
   },
   "outputs": [
    {
     "data": {
      "text/plain": [
       "\"ttttgcatgcat\""
      ]
     },
     "execution_count": 5,
     "metadata": {},
     "output_type": "execute_result"
    }
   ],
   "source": [
    "# complemental sequence (Bio::Sequence::NA object)\n",
    "seq.complement"
   ]
  },
  {
   "cell_type": "code",
   "execution_count": 6,
   "metadata": {
    "collapsed": false
   },
   "outputs": [
    {
     "data": {
      "text/plain": [
       "\"gcatgc\""
      ]
     },
     "execution_count": 6,
     "metadata": {},
     "output_type": "execute_result"
    }
   ],
   "source": [
    "seq.subseq(3,8) # gets subsequence of positions 3 to 8 (starting from 1)"
   ]
  },
  {
   "cell_type": "code",
   "execution_count": 7,
   "metadata": {
    "collapsed": false
   },
   "outputs": [
    {
     "data": {
      "text/plain": [
       "33"
      ]
     },
     "execution_count": 7,
     "metadata": {},
     "output_type": "execute_result"
    }
   ],
   "source": [
    "seq.gc_percent"
   ]
  },
  {
   "cell_type": "code",
   "execution_count": 8,
   "metadata": {
    "collapsed": false
   },
   "outputs": [
    {
     "data": {
      "text/plain": [
       "{\"a\"=>6, \"t\"=>2, \"g\"=>2, \"c\"=>2}"
      ]
     },
     "execution_count": 8,
     "metadata": {},
     "output_type": "execute_result"
    }
   ],
   "source": [
    "seq.composition"
   ]
  },
  {
   "cell_type": "code",
   "execution_count": 9,
   "metadata": {
    "collapsed": false
   },
   "outputs": [
    {
     "data": {
      "text/plain": [
       "\"MHAK\""
      ]
     },
     "execution_count": 9,
     "metadata": {},
     "output_type": "execute_result"
    }
   ],
   "source": [
    "seq.translate"
   ]
  },
  {
   "cell_type": "code",
   "execution_count": 10,
   "metadata": {
    "collapsed": false
   },
   "outputs": [
    {
     "data": {
      "text/plain": [
       "\"CMQ\""
      ]
     },
     "execution_count": 10,
     "metadata": {},
     "output_type": "execute_result"
    }
   ],
   "source": [
    "seq.translate(2)        # translate from frame 2"
   ]
  },
  {
   "cell_type": "code",
   "execution_count": 11,
   "metadata": {
    "collapsed": false
   },
   "outputs": [
    {
     "data": {
      "text/plain": [
       "\"MHAK\""
      ]
     },
     "execution_count": 11,
     "metadata": {},
     "output_type": "execute_result"
    }
   ],
   "source": [
    "seq.translate(1,11)     # codon table 11"
   ]
  },
  {
   "cell_type": "code",
   "execution_count": 12,
   "metadata": {
    "collapsed": false
   },
   "outputs": [
    {
     "data": {
      "text/plain": [
       "[\"Met\", \"His\", \"Ala\", \"Lys\"]"
      ]
     },
     "execution_count": 12,
     "metadata": {},
     "output_type": "execute_result"
    }
   ],
   "source": [
    "seq.translate.codes"
   ]
  },
  {
   "cell_type": "code",
   "execution_count": 13,
   "metadata": {
    "collapsed": false
   },
   "outputs": [
    {
     "data": {
      "text/plain": [
       "[\"methionine\", \"histidine\", \"alanine\", \"lysine\"]"
      ]
     },
     "execution_count": 13,
     "metadata": {},
     "output_type": "execute_result"
    }
   ],
   "source": [
    "seq.translate.names"
   ]
  },
  {
   "cell_type": "code",
   "execution_count": 14,
   "metadata": {
    "collapsed": false
   },
   "outputs": [
    {
     "data": {
      "text/plain": [
       "{\"M\"=>1, \"H\"=>1, \"A\"=>1, \"K\"=>1}"
      ]
     },
     "execution_count": 14,
     "metadata": {},
     "output_type": "execute_result"
    }
   ],
   "source": [
    "seq.translate.composition"
   ]
  },
  {
   "cell_type": "code",
   "execution_count": 15,
   "metadata": {
    "collapsed": false
   },
   "outputs": [
    {
     "data": {
      "text/plain": [
       "485.6050000000001"
      ]
     },
     "execution_count": 15,
     "metadata": {},
     "output_type": "execute_result"
    }
   ],
   "source": [
    "seq.translate.molecular_weight"
   ]
  },
  {
   "cell_type": "code",
   "execution_count": 16,
   "metadata": {
    "collapsed": false
   },
   "outputs": [
    {
     "data": {
      "text/plain": [
       "\"FCMH\""
      ]
     },
     "execution_count": 16,
     "metadata": {},
     "output_type": "execute_result"
    }
   ],
   "source": [
    "seq.complement.translate"
   ]
  },
  {
   "cell_type": "markdown",
   "metadata": {},
   "source": [
    "get a random sequence with the same NA count:"
   ]
  },
  {
   "cell_type": "code",
   "execution_count": 17,
   "metadata": {
    "collapsed": false
   },
   "outputs": [
    {
     "data": {
      "text/plain": [
       "{\"a\"=>6, \"c\"=>2, \"g\"=>2, \"t\"=>2}"
      ]
     },
     "execution_count": 17,
     "metadata": {},
     "output_type": "execute_result"
    }
   ],
   "source": [
    "counts = {'a'=>seq.count('a'),'c'=>seq.count('c'),'g'=>seq.count('g'),'t'=>seq.count('t')}"
   ]
  },
  {
   "cell_type": "markdown",
   "metadata": {},
   "source": [
    "Nucleic acid sequence are members of the ```Bio::Sequence::NA``` class, and\n",
    "amino acid sequence are members of the ```Bio::Sequence::AA``` class.  Shared\n",
    "methods are in the parent ```Bio::Sequence``` class.\n",
    "\n",
    "As ```Bio::Sequence``` inherits Ruby's ```String``` class, you can use\n",
    "```String``` class methods. For example, to get a subsequence, you can\n",
    "not only use ```subseq(from, to)``` but also ```String#[]```.\n",
    "Please take note that the Ruby's string's are base 0 - i.e. the first letter\n",
    "has index 0, for example:"
   ]
  },
  {
   "cell_type": "code",
   "execution_count": null,
   "metadata": {
    "collapsed": true
   },
   "outputs": [],
   "source": []
  }
 ],
 "metadata": {
  "kernelspec": {
   "display_name": "Ruby 2.1.5",
   "language": "ruby",
   "name": "ruby"
  },
  "language_info": {
   "file_extension": ".rb",
   "mimetype": "application/x-ruby",
   "name": "ruby",
   "version": "2.1.5"
  }
 },
 "nbformat": 4,
 "nbformat_minor": 0
}
